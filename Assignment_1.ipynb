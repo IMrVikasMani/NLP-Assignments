{
 "cells": [
  {
   "cell_type": "code",
   "execution_count": 2,
   "metadata": {},
   "outputs": [
    {
     "name": "stdout",
     "output_type": "stream",
     "text": [
      "showing info https://raw.githubusercontent.com/nltk/nltk_data/gh-pages/index.xml\n"
     ]
    },
    {
     "data": {
      "text/plain": [
       "True"
      ]
     },
     "execution_count": 2,
     "metadata": {},
     "output_type": "execute_result"
    }
   ],
   "source": [
    "import nltk\n",
    "nltk.download()"
   ]
  },
  {
   "cell_type": "code",
   "execution_count": 4,
   "metadata": {},
   "outputs": [],
   "source": [
    "from nltk.corpus import stopwords\n",
    "from nltk.stem import PorterStemmer\n",
    "from nltk.stem import WordNetLemmatizer\n",
    "from nltk.tokenize import word_tokenize,sent_tokenize"
   ]
  },
  {
   "cell_type": "code",
   "execution_count": 43,
   "metadata": {},
   "outputs": [],
   "source": [
    "import string\n",
    "import re"
   ]
  },
  {
   "cell_type": "code",
   "execution_count": 46,
   "metadata": {},
   "outputs": [],
   "source": [
    "panctuations = list(string.punctuation)"
   ]
  },
  {
   "cell_type": "code",
   "execution_count": 56,
   "metadata": {},
   "outputs": [],
   "source": [
    "sentence = ('Sectarianism, bigotry, and its horrible descendant, fanaticism, have long possessed this beautiful earth. They have filled the earth' \n",
    "            'with violence, drenched it often and often with human blood, destroyed civilization ' \n",
    "    'and sent whole nations to despair. Had it not been for these horrible demons, '\n",
    "    'human society would be far more advanced than it is now. But their time is come; and I fervently '\n",
    "    'hope that the bell that tolled this morning in honor of this convention may be the death-knell of all fanaticism, of all persecutions '\n",
    "    'with the sword or with the pen, and of all uncharitable feelings between persons wending their way to the same goal.')"
   ]
  },
  {
   "cell_type": "code",
   "execution_count": 32,
   "metadata": {},
   "outputs": [
    {
     "data": {
      "text/plain": [
       "'Sectarianism, bigotry, and its horrible descendant, fanaticism, have long possessed this beautiful earth. They have filled the earthwith violence, drenched it often and often with human blood, destroyed civilization and sent whole nations to despair. Had it not been for these horrible demons, human society would be far more advanced than it is now. But their time is come; and I fervently hope that the bell that tolled this morning in honor of this convention may be the death-knell of all fanaticism, of all persecutions with the sword or with the pen, and of all uncharitable feelings between persons wending their way to the same goal.'"
      ]
     },
     "execution_count": 32,
     "metadata": {},
     "output_type": "execute_result"
    }
   ],
   "source": [
    "sentence"
   ]
  },
  {
   "cell_type": "code",
   "execution_count": 33,
   "metadata": {},
   "outputs": [
    {
     "name": "stdout",
     "output_type": "stream",
     "text": [
      "['Sectarianism, bigotry, and its horrible descendant, fanaticism, have long possessed this beautiful earth.', 'They have filled the earthwith violence, drenched it often and often with human blood, destroyed civilization and sent whole nations to despair.', 'Had it not been for these horrible demons, human society would be far more advanced than it is now.', 'But their time is come; and I fervently hope that the bell that tolled this morning in honor of this convention may be the death-knell of all fanaticism, of all persecutions with the sword or with the pen, and of all uncharitable feelings between persons wending their way to the same goal.']\n"
     ]
    }
   ],
   "source": [
    "print(sent_tokenize(sentence))"
   ]
  },
  {
   "cell_type": "code",
   "execution_count": 36,
   "metadata": {
    "collapsed": true,
    "jupyter": {
     "outputs_hidden": true
    }
   },
   "outputs": [
    {
     "name": "stdout",
     "output_type": "stream",
     "text": [
      "['Sectarianism', ',', 'bigotry', ',', 'and', 'its', 'horrible', 'descendant', ',', 'fanaticism', ',', 'have', 'long', 'possessed', 'this', 'beautiful', 'earth', '.', 'They', 'have', 'filled', 'the', 'earthwith', 'violence', ',', 'drenched', 'it', 'often', 'and', 'often', 'with', 'human', 'blood', ',', 'destroyed', 'civilization', 'and', 'sent', 'whole', 'nations', 'to', 'despair', '.', 'Had', 'it', 'not', 'been', 'for', 'these', 'horrible', 'demons', ',', 'human', 'society', 'would', 'be', 'far', 'more', 'advanced', 'than', 'it', 'is', 'now', '.', 'But', 'their', 'time', 'is', 'come', ';', 'and', 'I', 'fervently', 'hope', 'that', 'the', 'bell', 'that', 'tolled', 'this', 'morning', 'in', 'honor', 'of', 'this', 'convention', 'may', 'be', 'the', 'death-knell', 'of', 'all', 'fanaticism', ',', 'of', 'all', 'persecutions', 'with', 'the', 'sword', 'or', 'with', 'the', 'pen', ',', 'and', 'of', 'all', 'uncharitable', 'feelings', 'between', 'persons', 'wending', 'their', 'way', 'to', 'the', 'same', 'goal', '.']\n"
     ]
    }
   ],
   "source": [
    "print(word_tokenize(sentence))"
   ]
  },
  {
   "cell_type": "code",
   "execution_count": 41,
   "metadata": {},
   "outputs": [],
   "source": [
    "stpwords = set(stopwords.words('english'))"
   ]
  },
  {
   "cell_type": "code",
   "execution_count": 51,
   "metadata": {},
   "outputs": [
    {
     "name": "stdout",
     "output_type": "stream",
     "text": [
      "['sectarian bigotri horribl descend fanatic long possess beauti earth', 'they fill earthwith violenc drench often often human blood destroy civil sent whole nation despair', 'had horribl demon human societi would far advanc', 'but time come I fervent hope bell toll morn honor convent may death-knel fanatic persecut sword pen uncharit feel person wend way goal']\n"
     ]
    }
   ],
   "source": [
    "#Stemming\n",
    "sentences = sent_tokenize(sentence)\n",
    "stemmer = PorterStemmer()\n",
    "for i in range(len(sentences)):\n",
    "    words = word_tokenize(sentences[i])\n",
    "    words = [stemmer.stem(word) for word in words if (word not in stpwords and word not in panctuations)]\n",
    "    sentences[i] = \" \".join(words)\n",
    "print(sentences)"
   ]
  },
  {
   "cell_type": "code",
   "execution_count": 57,
   "metadata": {},
   "outputs": [
    {
     "name": "stdout",
     "output_type": "stream",
     "text": [
      "['Sectarianism bigotry horrible descendant fanaticism long possess beautiful earth', 'They fill earthwith violence drench often often human blood destroy civilization send whole nations despair', 'Had horrible demons human society would far advance', 'But time come I fervently hope bell toll morning honor convention may death-knell fanaticism persecutions sword pen uncharitable feel persons wend way goal']\n"
     ]
    }
   ],
   "source": [
    "#Lemmatizing\n",
    "sentences = sent_tokenize(sentence)\n",
    "lemmatizer = WordNetLemmatizer()\n",
    "for i in range(len(sentences)):\n",
    "    words = word_tokenize(sentences[i])\n",
    "    words = [lemmatizer.lemmatize(word,pos=\"v\") for word in words if (word not in stpwords and word not in panctuations)]\n",
    "    sentences[i] = \" \".join(words)\n",
    "print(sentences)"
   ]
  }
 ],
 "metadata": {
  "kernelspec": {
   "display_name": "Python 3",
   "language": "python",
   "name": "python3"
  },
  "language_info": {
   "codemirror_mode": {
    "name": "ipython",
    "version": 3
   },
   "file_extension": ".py",
   "mimetype": "text/x-python",
   "name": "python",
   "nbconvert_exporter": "python",
   "pygments_lexer": "ipython3",
   "version": "3.6.7"
  }
 },
 "nbformat": 4,
 "nbformat_minor": 4
}
