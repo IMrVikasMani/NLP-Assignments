{
 "cells": [
  {
   "cell_type": "code",
   "execution_count": 9,
   "metadata": {},
   "outputs": [],
   "source": [
    "import re \n",
    "from textblob import TextBlob #Used to predict sentiment\n",
    "import GetOldTweets3 as got #Used to retieve tweets\n",
    "from matplotlib import pyplot as plt"
   ]
  },
  {
   "cell_type": "code",
   "execution_count": 21,
   "metadata": {},
   "outputs": [],
   "source": [
    "tweetCriteria = got.manager.TweetCriteria().setQuerySearch('Rhea')\\\n",
    "                                           .setSince(\"2020-06-15\")\\\n",
    "                                           .setUntil(\"2020-08-31\")\\\n",
    "                                           .setLang('en')\\\n",
    "                                           .setMaxTweets(300)\n",
    "tweet = got.manager.TweetManager.getTweets(tweetCriteria)"
   ]
  },
  {
   "cell_type": "code",
   "execution_count": 12,
   "metadata": {},
   "outputs": [],
   "source": [
    "#Function to get the sentiment of the tweet\n",
    "def get_sentiment(tweet): \n",
    "        result = TextBlob(preprocess_tweet(tweet)) \n",
    "        if result.sentiment.polarity > 0: \n",
    "            return 'Positive'\n",
    "        elif result.sentiment.polarity == 0: \n",
    "            return 'Neutral'\n",
    "        else: \n",
    "            return 'Negative'\n",
    "\n",
    "#Function to clean the tweets like removing Hashtags, User Handles, Hyperlink\n",
    "def preprocess_tweet(tweet): \n",
    "        return ' '.join(re.sub(\"(@[A-Za-z0-9]+)|([^0-9A-Za-z \\t]) |(\\w+:\\/\\/\\S+)\", \" \", tweet).split())"
   ]
  },
  {
   "cell_type": "code",
   "execution_count": 22,
   "metadata": {},
   "outputs": [],
   "source": [
    "#Storing the tweet and its sentiment\n",
    "tweets=[]\n",
    "for tw in tweet: \n",
    "\n",
    "  parsed_tweet = {}\n",
    "  parsed_tweet['text'] = tw.text \n",
    "  parsed_tweet['sentiment'] =get_sentiment(tw.text) \n",
    "  if tw.retweets > 0: \n",
    "    if parsed_tweet not in tweets: \n",
    "      tweets.append(parsed_tweet) \n",
    "    else:\n",
    "      tweets.append(parsed_tweet)"
   ]
  },
  {
   "cell_type": "code",
   "execution_count": 23,
   "metadata": {},
   "outputs": [],
   "source": [
    "positive_tweets = [t for t in tweets if t['sentiment'] == 'Positive']\n",
    "negative_tweets = [t for t in tweets if t['sentiment'] == 'Negative']\n",
    "neutral_tweets=[t for t in tweets if t['sentiment']=='Neutral']\n",
    "per_ptweets=len(positive_tweets)/len(tweets)*100\n",
    "per_ntweets=len(negative_tweets)/len(tweets)*100\n",
    "per_neutral=len(neutral_tweets)/len(tweets)*100\n",
    "lab=['Positive','Negative','Neutral']\n",
    "data=[per_ptweets,per_ntweets,per_neutral]"
   ]
  },
  {
   "cell_type": "code",
   "execution_count": 24,
   "metadata": {},
   "outputs": [
    {
     "data": {
      "text/plain": [
       "[52.459016393442624, 22.950819672131146, 24.59016393442623]"
      ]
     },
     "execution_count": 24,
     "metadata": {},
     "output_type": "execute_result"
    }
   ],
   "source": [
    "data"
   ]
  },
  {
   "cell_type": "code",
   "execution_count": 25,
   "metadata": {},
   "outputs": [
    {
     "data": {
      "image/png": "[encoded data removed]",
      "text/plain": [
       "<Figure size 720x504 with 1 Axes>"
      ]
     },
     "metadata": {},
     "output_type": "display_data"
    }
   ],
   "source": [
    "fig = plt.figure(figsize =(10, 7)) \n",
    "plt.pie(data, labels = lab) \n",
    "plt.show()"
   ]
  }
 ],
 "metadata": {
  "kernelspec": {
   "display_name": "Python 3",
   "language": "python",
   "name": "python3"
  },
  "language_info": {
   "codemirror_mode": {
    "name": "ipython",
    "version": 3
   },
   "file_extension": ".py",
   "mimetype": "text/x-python",
   "name": "python",
   "nbconvert_exporter": "python",
   "pygments_lexer": "ipython3",
   "version": "3.6.7"
  }
 },
 "nbformat": 4,
 "nbformat_minor": 4
}
